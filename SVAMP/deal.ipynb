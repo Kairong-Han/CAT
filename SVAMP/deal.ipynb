{
 "cells": [
  {
   "cell_type": "code",
   "execution_count": null,
   "metadata": {},
   "outputs": [],
   "source": [
    "import json\n",
    "\n",
    "def adjust_input_and_target(input_file_list, output_file):\n",
    "    for input_file in input_file_list:\n",
    "        with open(input_file, 'r', encoding='utf-8') as infile, \\\n",
    "            open(output_file, 'a+', encoding='utf-8') as outfile:\n",
    "            for line in infile:\n",
    "                data = json.loads(line)\n",
    "                outfile.write(json.dumps(data, ensure_ascii=False) + '\\n')\n",
    "\n",
    "# 示例用法\n",
    "adjust_input_and_target([\"svamp_train.jsonl\",\"svamp_test.jsonl\",\"svamp_val.jsonl\"], \"output.jsonl\")\n"
   ]
  }
 ],
 "metadata": {
  "kernelspec": {
   "display_name": "new",
   "language": "python",
   "name": "python3"
  },
  "language_info": {
   "codemirror_mode": {
    "name": "ipython",
    "version": 3
   },
   "file_extension": ".py",
   "mimetype": "text/x-python",
   "name": "python",
   "nbconvert_exporter": "python",
   "pygments_lexer": "ipython3",
   "version": "3.12.9"
  }
 },
 "nbformat": 4,
 "nbformat_minor": 2
}
